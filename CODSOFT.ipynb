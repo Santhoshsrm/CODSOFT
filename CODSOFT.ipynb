{
  "cells": [
    {
      "cell_type": "markdown",
      "metadata": {
        "id": "view-in-github",
        "colab_type": "text"
      },
      "source": [
        "<a href=\"https://colab.research.google.com/github/Santhoshsrm/CODSOFT/blob/main/CODSOFT.ipynb\" target=\"_parent\"><img src=\"https://colab.research.google.com/assets/colab-badge.svg\" alt=\"Open In Colab\"/></a>"
      ]
    },
    {
      "cell_type": "code",
      "execution_count": null,
      "metadata": {
        "colab": {
          "background_save": true,
          "base_uri": "https://localhost:8080/"
        },
        "id": "CIuyuYdCGpFh",
        "outputId": "90c94b50-7c5e-4c6b-8d40-8e13b966a105"
      },
      "outputs": [
        {
          "name": "stdout",
          "output_type": "stream",
          "text": [
            "Chatbot: I'm sorry, I don't understand that. Please try asking something else.\n",
            "Chatbot: Hello! How can I assist you today?\n"
          ]
        }
      ],
      "source": [
        "def simple_chatbot(user_input):\n",
        "    user_input = user_input.lower()\n",
        "    predefined_responses = {\n",
        "        \"hello\": \"Hello! How can I assist you today?\",\n",
        "        \"how are you\": \"I'm just a chatbot, but I'm here to help you.\",\n",
        "        \"what is your name\": \"I'm a simple chatbot.\",\n",
        "        \"bye\": \"Goodbye! Have a great day.\",\n",
        "    }\n",
        "    for query, response in predefined_responses.items():\n",
        "        if query in user_input:\n",
        "            return response\n",
        "\n",
        "    return \"I'm sorry, I don't understand that. Please try asking something else.\"\n",
        "while True:\n",
        "    user_input = input(\"You: \")\n",
        "    if user_input.lower() == \"exit\":\n",
        "        print(\"Chatbot: Goodbye!\")\n",
        "        break\n",
        "\n",
        "    response = simple_chatbot(user_input)\n",
        "    print(\"Chatbot:\", response)\n"
      ]
    }
  ],
  "metadata": {
    "colab": {
      "provenance": [],
      "authorship_tag": "ABX9TyPtDNaWsgXRKc515tsm5F28",
      "include_colab_link": true
    },
    "kernelspec": {
      "display_name": "Python 3",
      "name": "python3"
    },
    "language_info": {
      "name": "python"
    }
  },
  "nbformat": 4,
  "nbformat_minor": 0
}