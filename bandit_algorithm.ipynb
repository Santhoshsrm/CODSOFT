{
  "nbformat": 4,
  "nbformat_minor": 0,
  "metadata": {
    "colab": {
      "provenance": [],
      "authorship_tag": "ABX9TyPye52krtNQgaWcv97oyhuc",
      "include_colab_link": true
    },
    "kernelspec": {
      "name": "python3",
      "display_name": "Python 3"
    },
    "language_info": {
      "name": "python"
    }
  },
  "cells": [
    {
      "cell_type": "markdown",
      "metadata": {
        "id": "view-in-github",
        "colab_type": "text"
      },
      "source": [
        "<a href=\"https://colab.research.google.com/github/Santhoshsrm/CODSOFT/blob/main/bandit_algorithm.ipynb\" target=\"_parent\"><img src=\"https://colab.research.google.com/assets/colab-badge.svg\" alt=\"Open In Colab\"/></a>"
      ]
    },
    {
      "cell_type": "code",
      "execution_count": 4,
      "metadata": {
        "colab": {
          "base_uri": "https://localhost:8080/"
        },
        "id": "cdvvvC_M8xfQ",
        "outputId": "444db9e1-bea1-4f67-c37d-7ad5d2349b36"
      },
      "outputs": [
        {
          "output_type": "stream",
          "name": "stdout",
          "text": [
            "   Ad 1  Ad 2  Ad 3  Ad 4  Ad 5  Ad 6  Ad 7  Ad 8  Ad 9  Ad 10\n",
            "0     1     0     0     0     1     0     0     0     1      0\n",
            "1     0     0     0     0     0     0     0     0     1      0\n",
            "2     0     0     0     0     0     0     0     0     0      0\n",
            "3     0     1     0     0     0     0     0     1     0      0\n",
            "4     0     0     0     0     0     0     0     0     0      0\n",
            "\n",
            "\n",
            "Random Selection\n",
            "\n",
            "\n",
            "1    0.116\n",
            "9    0.106\n",
            "8    0.103\n",
            "5    0.101\n",
            "4    0.100\n",
            "3    0.098\n",
            "0    0.098\n",
            "2    0.098\n",
            "6    0.091\n",
            "7    0.089\n",
            "dtype: float64\n",
            "\n",
            "\n",
            "Implementing UCB\n",
            "\n",
            "\n",
            "4    0.250000\n",
            "7    0.170667\n",
            "0    0.106000\n",
            "3    0.091333\n",
            "8    0.075333\n",
            "1    0.073333\n",
            "2    0.066000\n",
            "6    0.066000\n",
            "9    0.053333\n",
            "5    0.048000\n",
            "dtype: float64\n"
          ]
        }
      ],
      "source": [
        "import numpy as np\n",
        "import pandas as pd\n",
        "\n",
        "dataset = pd.read_csv('Ads_CTR_Optimisation.csv')\n",
        "\n",
        "print(dataset.head())\n",
        "\n",
        "print('\\n\\nRandom Selection\\n\\n')\n",
        "\n",
        "import random\n",
        "N = 10000\n",
        "d = 10\n",
        "ads_selected = []\n",
        "total_reward = 0\n",
        "for n in range(0, N):\n",
        "    ad = random.randrange(d)\n",
        "    ads_selected.append(ad)\n",
        "    reward = dataset.values[n, ad]\n",
        "    total_reward = total_reward + reward\n",
        "\n",
        "\n",
        "print(pd.Series(ads_selected).tail(1000).value_counts(normalize=True))\n",
        "\n",
        "\n",
        "print('\\n\\nImplementing UCB\\n\\n')\n",
        "import math\n",
        "N = 10000\n",
        "d = 10\n",
        "ads_selected = []\n",
        "numbers_of_selections = [0] * d\n",
        "sums_of_reward = [0] * d\n",
        "total_reward = 0\n",
        "\n",
        "for n in range(0, N):\n",
        "    ad = 0\n",
        "    max_upper_bound = 0\n",
        "    for i in range(0, d):\n",
        "        if (numbers_of_selections[i] > 0):\n",
        "            average_reward = sums_of_reward[i] / numbers_of_selections[i]\n",
        "            delta_i = math.sqrt(2 * math.log(n+1) / numbers_of_selections[i])\n",
        "            upper_bound = average_reward + delta_i\n",
        "        else:\n",
        "            upper_bound = 1e400\n",
        "        if upper_bound > max_upper_bound:\n",
        "            max_upper_bound = upper_bound\n",
        "            ad = i\n",
        "    ads_selected.append(ad)\n",
        "    numbers_of_selections[ad] += 1\n",
        "    reward = dataset.values[n, ad]\n",
        "    sums_of_reward[ad] += reward\n",
        "    total_reward += reward\n",
        "\n",
        "\n",
        "print(pd.Series(ads_selected).head(1500).value_counts(normalize=True))"
      ]
    }
  ]
}