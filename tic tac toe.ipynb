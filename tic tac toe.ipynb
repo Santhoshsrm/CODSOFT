{
  "nbformat": 4,
  "nbformat_minor": 0,
  "metadata": {
    "colab": {
      "provenance": [],
      "include_colab_link": true
    },
    "kernelspec": {
      "name": "python3",
      "display_name": "Python 3"
    },
    "language_info": {
      "name": "python"
    }
  },
  "cells": [
    {
      "cell_type": "markdown",
      "metadata": {
        "id": "view-in-github",
        "colab_type": "text"
      },
      "source": [
        "<a href=\"https://colab.research.google.com/github/Santhoshsrm/CODSOFT/blob/main/tic%20tac%20toe.ipynb\" target=\"_parent\"><img src=\"https://colab.research.google.com/assets/colab-badge.svg\" alt=\"Open In Colab\"/></a>"
      ]
    },
    {
      "cell_type": "code",
      "execution_count": null,
      "metadata": {
        "colab": {
          "base_uri": "https://localhost:8080/"
        },
        "id": "e5k2I_MS0pAB",
        "outputId": "fbdd0ec3-443c-4a00-c3a5-15b6e2c7371b"
      },
      "outputs": [
        {
          "output_type": "stream",
          "name": "stdout",
          "text": [
            "  |   |  \n",
            "-----------\n",
            "  |   |  \n",
            "-----------\n",
            "  |   |  \n",
            "-----------\n",
            "\n",
            "Player X's turn.\n",
            "Enter position (1-9): 1\n",
            "X |   |  \n",
            "-----------\n",
            "  |   |  \n",
            "-----------\n",
            "  |   |  \n",
            "-----------\n",
            "\n",
            "Player O's turn.\n",
            "Enter position (1-9): 4\n",
            "X |   |  \n",
            "-----------\n",
            "O |   |  \n",
            "-----------\n",
            "  |   |  \n",
            "-----------\n",
            "\n",
            "Player X's turn.\n",
            "Enter position (1-9): 2\n",
            "X | X |  \n",
            "-----------\n",
            "O |   |  \n",
            "-----------\n",
            "  |   |  \n",
            "-----------\n",
            "\n",
            "Player O's turn.\n",
            "Enter position (1-9): 3\n",
            "X | X | O\n",
            "-----------\n",
            "O |   |  \n",
            "-----------\n",
            "  |   |  \n",
            "-----------\n",
            "\n",
            "Player X's turn.\n",
            "Enter position (1-9): 5\n",
            "X | X | O\n",
            "-----------\n",
            "O | X |  \n",
            "-----------\n",
            "  |   |  \n",
            "-----------\n",
            "\n",
            "Player O's turn.\n",
            "Enter position (1-9): 9\n",
            "X | X | O\n",
            "-----------\n",
            "O | X |  \n",
            "-----------\n",
            "  |   | O\n",
            "-----------\n",
            "\n",
            "Player X's turn.\n",
            "Enter position (1-9): 8\n",
            "X | X | O\n",
            "-----------\n",
            "O | X |  \n",
            "-----------\n",
            "  | X | O\n",
            "-----------\n",
            "\n",
            "Player X wins!\n"
          ]
        }
      ],
      "source": [
        "def print_board(board):\n",
        "    for row in board:\n",
        "        print(\" | \".join(row))\n",
        "        print(\"-----------\")\n",
        "\n",
        "def check_winner(board, player):\n",
        "    # Check rows, columns, and diagonals for a win\n",
        "    for i in range(3):\n",
        "        if all(board[i][j] == player for j in range(3)) or all(board[j][i] == player for j in range(3)):\n",
        "            return True\n",
        "    if all(board[i][i] == player for i in range(3)) or all(board[i][2 - i] == player for i in range(3)):\n",
        "        return True\n",
        "    return False\n",
        "\n",
        "def is_board_full(board):\n",
        "    return all(board[i][j] != ' ' for i in range(3) for j in range(3))\n",
        "\n",
        "def tic_tac_toe():\n",
        "    board = [[' ' for _ in range(3)] for _ in range(3)]\n",
        "    players = ['X', 'O']\n",
        "    current_player = 0\n",
        "\n",
        "    while True:\n",
        "        print_board(board)\n",
        "        player = players[current_player]\n",
        "        print(f\"\\nPlayer {player}'s turn.\")\n",
        "        move = int(input(\"Enter position (1-9): \")) - 1\n",
        "\n",
        "        row, col = divmod(move, 3)\n",
        "\n",
        "        if board[row][col] == ' ':\n",
        "            board[row][col] = player\n",
        "            if check_winner(board, player):\n",
        "                print_board(board)\n",
        "                print(f\"\\nPlayer {player} wins!\")\n",
        "                break\n",
        "            elif is_board_full(board):\n",
        "                print_board(board)\n",
        "                print(\"\\nThe game is a tie!\")\n",
        "                break\n",
        "            else:\n",
        "                current_player = 1 - current_player\n",
        "        else:\n",
        "            print(\"\\nInvalid move. Try again.\")\n",
        "\n",
        "if __name__ == \"__main__\":\n",
        "    tic_tac_toe()"
      ]
    },
    {
      "cell_type": "code",
      "source": [],
      "metadata": {
        "id": "P7eIAYOw3d6v"
      },
      "execution_count": null,
      "outputs": []
    }
  ]
}